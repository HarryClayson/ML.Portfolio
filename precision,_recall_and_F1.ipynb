{
  "nbformat": 4,
  "nbformat_minor": 0,
  "metadata": {
    "colab": {
      "provenance": []
    },
    "kernelspec": {
      "name": "python3",
      "display_name": "Python 3"
    },
    "language_info": {
      "name": "python"
    }
  },
  "cells": [
    {
      "cell_type": "code",
      "execution_count": 1,
      "metadata": {
        "colab": {
          "base_uri": "https://localhost:8080/"
        },
        "id": "N_XQilFkaj8R",
        "outputId": "983134c8-7172-4147-cf68-552cbdccb443"
      },
      "outputs": [
        {
          "output_type": "stream",
          "name": "stdout",
          "text": [
            "0.9259259259259259\n"
          ]
        }
      ],
      "source": [
        "actual = [1, 0, 0, 1, 1, 1, 0, 1, 1, 1]\n",
        "predicted = [0, 1, 1, 1, 1, 0, 1, 0, 1, 0]\n",
        "\n",
        "true_positives = 0\n",
        "true_negatives = 0\n",
        "false_positives = 0\n",
        "false_negatives = 0\n",
        "\n",
        "for i in range(len(predicted)):\n",
        "  if actual[i] == 1 and predicted[i] == 1:\n",
        "    true_positives += 1\n",
        "  if actual[i] == 0 and predicted[i] == 0:\n",
        "    true_negatives += 1\n",
        "  if actual[i] == 0 and predicted[i] == 1:\n",
        "    false_positives += 1\n",
        "  if actual[i] == 1 and predicted[i] == 0:\n",
        "    false_negatives += 1\n",
        "\n",
        "precision = true_positives / (true_positives + false_positives)\n",
        "print(precision)\n",
        "\n",
        "recall = true_positives / (true_positives + false_negatives)\n",
        "print(recall)\n",
        "\n",
        "f_1 = (2 * precision * recall) / (precision + recall)\n",
        "print(f_1)"
      ]
    },
    {
      "cell_type": "code",
      "source": [],
      "metadata": {
        "id": "l05BJbXwXoay"
      },
      "execution_count": 1,
      "outputs": []
    }
  ]
}