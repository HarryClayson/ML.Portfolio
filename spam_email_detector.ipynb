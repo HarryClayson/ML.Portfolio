{
  "nbformat": 4,
  "nbformat_minor": 0,
  "metadata": {
    "colab": {
      "provenance": []
    },
    "kernelspec": {
      "name": "python3",
      "display_name": "Python 3"
    },
    "language_info": {
      "name": "python"
    }
  },
  "cells": [
    {
      "cell_type": "code",
      "execution_count": 1,
      "metadata": {
        "colab": {
          "base_uri": "https://localhost:8080/"
        },
        "id": "N_XQilFkaj8R",
        "outputId": "983134c8-7172-4147-cf68-552cbdccb443"
      },
      "outputs": [
        {
          "output_type": "stream",
          "name": "stdout",
          "text": [
            "0.9259259259259259\n"
          ]
        }
      ],
      "source": [
        "import numpy as np\n",
        "\n",
        "#given data: spam emails are 20% of total emails, 5% of spam emails contain \"enhancement\", 0.1% of real emails contain \"enhancement\"\n",
        "\n",
        "#prob SPAM given ENHANCEMENT = P(E|S)*P(S)/P(E)\n",
        "a = 'spam'\n",
        "b = 'enhancement'\n",
        "p_spam = 0.2\n",
        "p_enhancement_given_spam = 0.05\n",
        "p_enhancement = p_enhancement_given_spam * p_spam + 0.001 * 0.8\n",
        "p_spam_enhancement = (p_enhancement_given_spam * p_spam)/p_enhancement\n",
        "print(p_spam_enhancement)"
      ]
    },
    {
      "cell_type": "code",
      "source": [],
      "metadata": {
        "id": "l05BJbXwXoay"
      },
      "execution_count": 1,
      "outputs": []
    }
  ]
}